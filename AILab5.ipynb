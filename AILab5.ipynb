{
 "cells": [
  {
   "cell_type": "code",
   "execution_count": null,
   "id": "84f44843",
   "metadata": {},
   "outputs": [],
   "source": [
    "!pip install sklearn"
   ]
  },
  {
   "cell_type": "code",
   "execution_count": 75,
   "id": "2598250e-6d42-4a0c-9df4-5939a201d0bc",
   "metadata": {
    "scrolled": true
   },
   "outputs": [],
   "source": [
    "from sklearn.model_selection import train_test_split\n",
    "from datetime import datetime\n",
    "from keras.layers import Dense\n",
    "from keras.models import Sequential\n",
    "import tensorflow as tf\n",
    "import matplotlib.pyplot as plt\n",
    "import pandas as pd\n",
    "import numpy as np\n",
    "from keras.utils.np_utils import to_categorical  "
   ]
  },
  {
   "cell_type": "code",
   "execution_count": 98,
   "id": "a64d1eac",
   "metadata": {},
   "outputs": [],
   "source": [
    "def getXY(filename):\n",
    "    training_data_filename = \"occupancy_data/datatraining.csv\"\n",
    "    data = pd.read_csv(training_data_filename)\n",
    "    data = data.drop(labels=['id'], axis=1)\n",
    "    data['date'] = [datetime.strptime(d, \"%Y-%m-%d %H:%M:%S\").timestamp() for d in data['date']] #change to date to seconds\n",
    "    X = data.drop(labels=[\"Occupancy\"], axis=1)\n",
    "    Y = data['Occupancy']\n",
    "    Y = to_categorical(Y,num_classes=2) #convert labels into one hot encoded arrays\n",
    "    #normalize the dataset \n",
    "    X['date'] = tf.keras.utils.normalize(np.array(X['date']))[0]\n",
    "    X['Temperature'] = tf.keras.utils.normalize(np.array(X['Temperature']))[0]\n",
    "    X['Humidity'] = tf.keras.utils.normalize(np.array(X['Humidity']))[0]\n",
    "    X['Light'] = tf.keras.utils.normalize(np.array(X['Light']))[0]\n",
    "    X['CO2'] = tf.keras.utils.normalize(np.array(X['CO2']))[0]\n",
    "    X['HumidityRatio'] = tf.keras.utils.normalize(np.array(X['HumidityRatio']))[0]\n",
    "    return X, Y"
   ]
  },
  {
   "cell_type": "markdown",
   "id": "930b2f64",
   "metadata": {},
   "source": [
    "training_data_filename = \"occupancy_data/datatraining.csv\"\n",
    "X, Y = getXY(training_data_filename)"
   ]
  },
  {
   "cell_type": "code",
   "execution_count": 100,
   "id": "07ca3da7",
   "metadata": {},
   "outputs": [],
   "source": [
    "#split the dataset into training and validation\n",
    "x_train, x_val, y_train, y_val = train_test_split(X, Y, test_size=0.05, random_state=0)"
   ]
  },
  {
   "cell_type": "code",
   "execution_count": 101,
   "id": "391cc974",
   "metadata": {},
   "outputs": [
    {
     "data": {
      "text/plain": [
       "((7735, 6), (408, 6), (7735, 2), (408, 2))"
      ]
     },
     "execution_count": 101,
     "metadata": {},
     "output_type": "execute_result"
    }
   ],
   "source": [
    "x_train.shape, x_val.shape, y_train.shape, y_val.shape #training and validation data shapes"
   ]
  },
  {
   "cell_type": "code",
   "execution_count": 102,
   "id": "f8f92166",
   "metadata": {},
   "outputs": [
    {
     "data": {
      "text/plain": [
       "(          date  Temperature  Humidity     Light       CO2  HumidityRatio\n",
       " 4355  0.011082     0.010892  0.009558  0.000000  0.007089       0.009346\n",
       " 7447  0.011083     0.011004  0.014084  0.000000  0.010341       0.013988\n",
       " 487   0.011080     0.011300  0.010547  0.000000  0.007097       0.010817\n",
       " 771   0.011080     0.011187  0.009661  0.000000  0.007284       0.009775\n",
       " 779   0.011080     0.011136  0.009617  0.000000  0.007365       0.009673\n",
       " ...        ...          ...       ...       ...       ...            ...\n",
       " 4931  0.011082     0.010409  0.013137  0.000000  0.007024       0.012167\n",
       " 3264  0.011081     0.010736  0.007893  0.000000  0.007056       0.007572\n",
       " 1653  0.011081     0.011214  0.008421  0.000000  0.007619       0.008540\n",
       " 2607  0.011081     0.011428  0.008295  0.021339  0.010706       0.008622\n",
       " 2732  0.011081     0.011863  0.009196  0.024201  0.014827       0.010052\n",
       " \n",
       " [7735 rows x 6 columns],\n",
       " array([[1., 0.],\n",
       "        [1., 0.],\n",
       "        [1., 0.],\n",
       "        ...,\n",
       "        [1., 0.],\n",
       "        [0., 1.],\n",
       "        [0., 1.]], dtype=float32))"
      ]
     },
     "execution_count": 102,
     "metadata": {},
     "output_type": "execute_result"
    }
   ],
   "source": [
    "x_train, y_train #training data final output"
   ]
  },
  {
   "cell_type": "code",
   "execution_count": 103,
   "id": "e723e750",
   "metadata": {},
   "outputs": [],
   "source": [
    "#creating the model\n",
    "model = Sequential()\n",
    "#hidden layer1\n",
    "model.add(Dense(128, activation='relu', input_dim=6))\n",
    "#output layer\n",
    "model.add(Dense(2, activation='softmax'))\n",
    "model.compile(loss='binary_crossentropy', optimizer='adam', metrics=['accuracy'])"
   ]
  },
  {
   "cell_type": "code",
   "execution_count": 104,
   "id": "94349f63",
   "metadata": {},
   "outputs": [
    {
     "name": "stdout",
     "output_type": "stream",
     "text": [
      "Model: \"sequential_2\"\n",
      "_________________________________________________________________\n",
      "Layer (type)                 Output Shape              Param #   \n",
      "=================================================================\n",
      "dense_4 (Dense)              (None, 128)               896       \n",
      "_________________________________________________________________\n",
      "dense_5 (Dense)              (None, 2)                 258       \n",
      "=================================================================\n",
      "Total params: 1,154\n",
      "Trainable params: 1,154\n",
      "Non-trainable params: 0\n",
      "_________________________________________________________________\n"
     ]
    }
   ],
   "source": [
    "model.summary() #output the model structure"
   ]
  },
  {
   "cell_type": "code",
   "execution_count": 105,
   "id": "2d99486f",
   "metadata": {},
   "outputs": [
    {
     "name": "stdout",
     "output_type": "stream",
     "text": [
      "Epoch 1/10\n",
      "242/242 [==============================] - 0s 471us/step - loss: 0.5238 - accuracy: 0.7880\n",
      "Epoch 2/10\n",
      "242/242 [==============================] - 0s 475us/step - loss: 0.4298 - accuracy: 0.7878\n",
      "Epoch 3/10\n",
      "242/242 [==============================] - 0s 479us/step - loss: 0.3323 - accuracy: 0.8133\n",
      "Epoch 4/10\n",
      "242/242 [==============================] - 0s 467us/step - loss: 0.2366 - accuracy: 0.9161\n",
      "Epoch 5/10\n",
      "242/242 [==============================] - 0s 471us/step - loss: 0.1695 - accuracy: 0.9688\n",
      "Epoch 6/10\n",
      "242/242 [==============================] - 0s 504us/step - loss: 0.1279 - accuracy: 0.9802\n",
      "Epoch 7/10\n",
      "242/242 [==============================] - 0s 484us/step - loss: 0.1044 - accuracy: 0.9850\n",
      "Epoch 8/10\n",
      "242/242 [==============================] - 0s 475us/step - loss: 0.0904 - accuracy: 0.9867\n",
      "Epoch 9/10\n",
      "242/242 [==============================] - 0s 471us/step - loss: 0.0820 - accuracy: 0.9872\n",
      "Epoch 10/10\n",
      "242/242 [==============================] - 0s 475us/step - loss: 0.0772 - accuracy: 0.9872\n"
     ]
    },
    {
     "data": {
      "text/plain": [
       "<tensorflow.python.keras.callbacks.History at 0x17cc6348e20>"
      ]
     },
     "execution_count": 105,
     "metadata": {},
     "output_type": "execute_result"
    }
   ],
   "source": [
    "model.fit(x_train, y_train, epochs=10) #train the model"
   ]
  },
  {
   "cell_type": "code",
   "execution_count": 107,
   "id": "e8398cd2",
   "metadata": {},
   "outputs": [
    {
     "name": "stdout",
     "output_type": "stream",
     "text": [
      "13/13 [==============================] - 0s 385us/step - loss: 0.0927 - accuracy: 0.9853\n"
     ]
    },
    {
     "data": {
      "text/plain": [
       "[0.09265478700399399, 0.9852941036224365]"
      ]
     },
     "execution_count": 107,
     "metadata": {},
     "output_type": "execute_result"
    }
   ],
   "source": [
    "model.evaluate(x_val, y_val) #output how the model is performing with the validation dataset"
   ]
  },
  {
   "cell_type": "code",
   "execution_count": 108,
   "id": "a89bc9d7",
   "metadata": {},
   "outputs": [],
   "source": [
    "test1_filename = \"occupancy_data/datatest.csv\"\n",
    "test2_filename = \"occupancy_data/datatest2.csv\""
   ]
  },
  {
   "cell_type": "code",
   "execution_count": 109,
   "id": "9abd07c1",
   "metadata": {},
   "outputs": [],
   "source": [
    "X_test1, Y_test1 = getXY(test1_filename)"
   ]
  },
  {
   "cell_type": "code",
   "execution_count": 111,
   "id": "97a74886",
   "metadata": {},
   "outputs": [
    {
     "name": "stdout",
     "output_type": "stream",
     "text": [
      "255/255 [==============================] - 0s 349us/step - loss: 0.0766 - accuracy: 0.9883\n"
     ]
    },
    {
     "data": {
      "text/plain": [
       "[0.07661452889442444, 0.988333523273468]"
      ]
     },
     "execution_count": 111,
     "metadata": {},
     "output_type": "execute_result"
    }
   ],
   "source": [
    "#testing the model performance with datatest.csv\n",
    "model.evaluate(X_test1, Y_test1)"
   ]
  },
  {
   "cell_type": "code",
   "execution_count": 112,
   "id": "832a85e0",
   "metadata": {},
   "outputs": [],
   "source": [
    "X_test2, Y_test2 = getXY(test2_filename)"
   ]
  },
  {
   "cell_type": "code",
   "execution_count": 114,
   "id": "9c7b509f",
   "metadata": {},
   "outputs": [
    {
     "name": "stdout",
     "output_type": "stream",
     "text": [
      "255/255 [==============================] - 0s 357us/step - loss: 0.0766 - accuracy: 0.9883\n"
     ]
    },
    {
     "data": {
      "text/plain": [
       "[0.07661452889442444, 0.988333523273468]"
      ]
     },
     "execution_count": 114,
     "metadata": {},
     "output_type": "execute_result"
    }
   ],
   "source": [
    "#testing the model performance with datatest2.csv\n",
    "model.evaluate(X_test2, Y_test2)"
   ]
  }
 ],
 "metadata": {
  "kernelspec": {
   "display_name": "Python 3 (ipykernel)",
   "language": "python",
   "name": "python3"
  },
  "language_info": {
   "codemirror_mode": {
    "name": "ipython",
    "version": 3
   },
   "file_extension": ".py",
   "mimetype": "text/x-python",
   "name": "python",
   "nbconvert_exporter": "python",
   "pygments_lexer": "ipython3",
   "version": "3.8.2"
  }
 },
 "nbformat": 4,
 "nbformat_minor": 5
}
